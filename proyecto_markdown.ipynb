
{
 "cells": [
  {
   "cell_type": "code",
   "execution_count": null,
   "id": "3427bf68",
   "metadata": {},
   "outputs": [],
   "source": []
  },
  {
   "cell_type": "markdown",
   "id": "149bbe99",
   "metadata": {},
   "source": [
    "### 1. **Análisis de Series Temporales**\n",
    "**Resumen:** El análisis de series temporales permite identificar patrones, tendencias y estacionalidades en los precios y volúmenes de ventas de aguacates a lo largo del tiempo.\n",
    "\n",
    "1. **Descomposición de Series Temporales de Precios:** \n",
    "   - **Uso de Datos:** Usa la columna `AveragePrice` y `Date`.\n",
    "   - **Esperado:** Utiliza la función `seasonal_decompose` de la librería `statsmodels` para descomponer la serie temporal de precios en componentes de tendencia, estacionalidad y ruido. \n",
    "     - Convierte `Date` a tipo datetime usando `pd.to_datetime()`.\n",
    "     - Agrupa los datos por `Date` y calcula el promedio de `AveragePrice` utilizando `groupby()` si es necesario.\n",
    "     - Visualiza los componentes descompuestos usando `matplotlib` para cada uno de ellos."
   ]
  },
  {
   "cell_type": "code",
   "execution_count": null,
   "id": "3427bf68",
   "metadata": {},
   "outputs": [],
   "source": []
  },
  {
   "cell_type": "markdown",
   "id": "f3d93875",
   "metadata": {},
   "source": [
    "2. **Análisis de Estacionalidad por Región:** \n",
    "   - **Uso de Datos:** Usa las columnas `AveragePrice`, `Date` y `Total Volume`.\n",
    "   - **Esperado:** Utiliza gráficos de líneas para visualizar cómo varían los precios de aguacates por región a lo largo de diferentes estaciones del año.\n",
    "     - Agrupa los datos por `region` y `Date` utilizando `groupby()`.\n",
    "     - Calcula el promedio de `AveragePrice` para cada región.\n",
    "     - Representa gráficamente las tendencias utilizando `plt.plot()` de `matplotlib`.\n"
   ]
  },
  {
   "cell_type": "code",
   "execution_count": null,
   "id": "205fffc9",
   "metadata": {},
   "outputs": [],
   "source": []
  },
  {
   "cell_type": "markdown",
   "id": "af3c086b",
   "metadata": {},
   "source": [
    "3. **Comparación de Precios Promedio Mensuales:**\n",
    "   - **Uso de Datos:** Usa las columnas `AveragePrice` y `Date`.\n",
    "   - **Esperado:** Calcula y compara los precios promedio mensuales.\n",
    "     - Agrupa los datos por mes usando `pd.Grouper` con `freq='M'`.\n",
    "     - Calcula el promedio de `AveragePrice` para cada mes con `mean()`.\n",
    "     - Visualiza los resultados con un gráfico de líneas usando `plt.plot()`."
   ]
  },
  {
   "cell_type": "code",
   "execution_count": null,
   "id": "c3949da7",
   "metadata": {},
   "outputs": [],
   "source": []
  },
  {
   "cell_type": "markdown",
   "id": "e874201b",
   "metadata": {},
   "source": [
    "4. **Tendencia de Ventas a lo Largo del Tiempo:**\n",
    "   - **Uso de Datos:** Usa las columnas `Total Volume` y `Date`.\n",
    "   - **Esperado:** Analiza cómo varía el volumen total de ventas a lo largo del tiempo.\n",
    "     - Agrupa los datos por `Date` y suma el `Total Volume` usando `groupby()`.\n",
    "     - Visualiza los resultados usando un gráfico de líneas con `plt.plot()` para mostrar la tendencia."
   ]
  },
  {
   "cell_type": "code",
   "execution_count": null,
   "id": "cebb03d1",
   "metadata": {},
   "outputs": [],
   "source": []
  },
  {
   "cell_type": "markdown",
   "id": "7905725f",
   "metadata": {},
   "source": [
    "5. **Análisis de Cambios en Precios Anuales:**\n",
    "   - **Uso de Datos:** Usa las columnas `AveragePrice` y `year`.\n",
    "   - **Esperado:** Observa las diferencias anuales en los precios promedio.\n",
    "     - Agrupa los datos por `year` utilizando `groupby()`.\n",
    "     - Calcula el promedio de `AveragePrice` para cada año.\n",
    "     - Representa los resultados en un gráfico de barras usando `plt.bar()` que compare los precios de cada año."
   ]
  },
  {
   "cell_type": "code",
   "execution_count": null,
   "id": "796adc3b",
   "metadata": {},
   "outputs": [],
   "source": []
  },
  {
   "cell_type": "markdown",
   "id": "f6807dad",
   "metadata": {},
   "source": [
    "### 2. **Gráficos para Visualización de Datos**\n",
    "**Resumen:** La visualización de datos es clave para identificar patrones y relaciones entre diferentes variables. Los gráficos apropiados pueden proporcionar información valiosa sobre el comportamiento de los precios y volúmenes de ventas.\n",
    "\n",
    "1. **Gráfico de Violín de Volumen de Ventas por Región:**\n",
    "   - **Uso de Datos:** Usa las columnas `Total Volume` y `region`.\n",
    "   - **Esperado:** Visualiza la distribución de ventas en diferentes regiones.\n",
    "     - Utiliza la función `violinplot` de `seaborn` para crear gráficos de violín.\n",
    "     - Configura los ejes para mostrar la relación entre `Total Volume` y `region`.\n",
    "     - Añade etiquetas y títulos usando `plt.title()` y `plt.xlabel()` para facilitar la interpretación."
   ]
  },
  {
   "cell_type": "code",
   "execution_count": null,
   "id": "af842ecb",
   "metadata": {},
   "outputs": [],
   "source": []
  },
  {
   "cell_type": "markdown",
   "id": "835209dc",
   "metadata": {},
   "source": [
    "2. **Boxplot Comparativo de Precios entre Años:**\n",
    "   - **Uso de Datos:** Usa las columnas `AveragePrice` y `year`.\n",
    "   - **Esperado:** Genera boxplots para comparar la distribución de precios.\n",
    "     - Utiliza `boxplot` de `seaborn` para crear boxplots que comparen `AveragePrice` entre diferentes años.\n",
    "     - Asegúrate de que cada boxplot represente un año diferente.\n",
    "     - Incluye etiquetas y títulos descriptivos usando `plt.title()`."
   ]
  },
  {
   "cell_type": "code",
   "execution_count": null,
   "id": "281400c8",
   "metadata": {},
   "outputs": [],
   "source": []
  },
  {
   "cell_type": "markdown",
   "id": "fcd3ad44",
   "metadata": {},
   "source": [
    "3. **Histograma de Volumen Total de Ventas:**\n",
    "   - **Uso de Datos:** Usa la columna `Total Volume`.\n",
    "   - **Esperado:** Crea un histograma para mostrar la distribución del volumen total de ventas.\n",
    "     - Utiliza `hist()` de `matplotlib` para crear el histograma.\n",
    "     - Ajusta el número de bins para una visualización clara usando el parámetro `bins`.\n",
    "     - Añade etiquetas y un título que describa lo que se muestra."
   ]
  },
  {
   "cell_type": "code",
   "execution_count": null,
   "id": "a8c83b7d",
   "metadata": {},
   "outputs": [],
   "source": []
  },
  {
   "cell_type": "markdown",
   "id": "d53427b9",
   "metadata": {},
   "source": [
    "4. **Gráfico de Barras de Ventas por Tipo de Bolsa:**\n",
    "   - **Uso de Datos:** Utiliza las columnas `Total Bags`, `Small Bags`, `Large Bags` y `XLarge Bags`.\n",
    "   - **Esperado:** Compara las ventas de diferentes tipos de bolsas.\n",
    "     - Suma los volúmenes de ventas por tipo de bolsa utilizando `sum()`.\n",
    "     - Crea un gráfico de barras con `plt.bar()` para mostrar las diferencias en ventas.\n",
    "     - Asegúrate de incluir etiquetas para cada tipo de bolsa."
   ]
  },
  {
   "cell_type": "code",
   "execution_count": null,
   "id": "eeef653b",
   "metadata": {},
   "outputs": [],
   "source": []
  },
  {
   "cell_type": "markdown",
   "id": "0d0bb20a",
   "metadata": {},
   "source": [
    "5. **Gráfico de Líneas de Precios Promedios por Año:**\n",
    "   - **Uso de Datos:** Utiliza las columnas `AveragePrice` y `year`.\n",
    "   - **Esperado:** Visualiza la tendencia de precios promedio a lo largo de los años.\n",
    "     - Agrupa los datos por `year` y calcula el promedio de `AveragePrice`.\n",
    "     - Usa `plt.plot()` para crear un gráfico de líneas que muestre la evolución de precios.\n",
    "     - Añade un título y etiquetas descriptivas a los ejes usando `plt.title()` y `plt.xlabel()`."
   ]
  },
  {
   "cell_type": "markdown",
   "id": "2c73d66b",
   "metadata": {},
   "source": [
    "### 3. **Elasticidad del Precio**\n",
    "**Resumen:** El análisis de elasticidad precio-demanda permite evaluar cómo los cambios en los precios afectan la demanda de aguacates. Comprender la elasticidad puede ayudar a formular estrategias de precios más efectivas.\n",
    "\n",
    "La fórmula de elasticidad precio-demanda es:\n",
    "\n",
    "$$\n",
    "E_d = \\frac{\\% \\text{Cambio en la cantidad demandada}}{\\% \\text{Cambio en el precio}} = \\frac{\\Delta Q / Q}{\\Delta P / P}\n",
    "$$\n",
    "\n",
    "1. **Elasticidad Precio-Demanda por Año:**\n",
    "   - **Uso de Datos:** Usa las columnas `AveragePrice` y `Total Volume`.\n",
    "   - **Esperado:** Calcula la elasticidad del precio de la demanda para cada año.\n",
    "     - Calcula la variación porcentual de `Total Volume` y `AveragePrice` utilizando `pd.pct_change()`.\n",
    "     - Utiliza la fórmula de elasticidad para determinar la sensibilidad de la demanda respecto al precio.\n",
    "     - Presenta los resultados en un gráfico de líneas usando `plt.plot()` para mostrar la elasticidad por año."
   ]
  },
  {
   "cell_type": "code",
   "execution_count": null,
   "id": "ff3880ac",
   "metadata": {},
   "outputs": [],
   "source": []
  },
  {
   "cell_type": "markdown",
   "id": "a1e88b60",
   "metadata": {},
   "source": [
    "2. **Comparación de Elasticidad en Diferentes Mercados:**\n",
    "   - **Uso de Datos:** Utiliza las columnas `Total Volume` y `AveragePrice`.\n",
    "   - **Esperado:** Calcula la elasticidad del precio de la demanda en diferentes regiones.\n",
    "     - Agrupa los datos por `region` y calcula la elasticidad para cada región utilizando `pd.pct_change()`.\n",
    "     - Presenta un gráfico de barras que muestre la elasticidad por región usando `plt.bar()`."
   ]
  },
  {
   "cell_type": "code",
   "execution_count": null,
   "id": "daa188c0",
   "metadata": {},
   "outputs": [],
   "source": []
  },
  {
   "cell_type": "markdown",
   "id": "4766f918",
   "metadata": {},
   "source": [
    "3. **Elasticidad a Nivel de Tipo de Bolsa:**\n",
    "   - **Uso de Datos:** Usa las columnas `AveragePrice` y `Total Bags`.\n",
    "   - **Esperado:** Calcula la elasticidad del precio de la demanda específica para cada tipo de bolsa.\n",
    "     - Suma los volúmenes de ventas por tipo de bolsa utilizando `groupby()` y `sum()`.\n",
    "     - Calcula la elasticidad para cada tipo y presenta los resultados en un gráfico comparativo usando `plt.bar()`."
   ]
  },
  {
   "cell_type": "code",
   "execution_count": null,
   "id": "15dbe5da",
   "metadata": {},
   "outputs": [],
   "source": []
  },
  {
   "cell_type": "markdown",
   "id": "e53a6c3e",
   "metadata": {},
   "source": [
    "4. **Análisis de Elasticidad Comparativa entre Orgánicos y Convencionales:**\n",
    "   - **Uso de Datos:** Usa las columnas `AveragePrice`, `Total Volume` y `type`.\n",
    "   - **Esperado:** Compara la elasticidad de la demanda entre aguacates orgánicos y convencionales.\n",
    "     - Agrupa los datos por `type` y calcula la elasticidad utilizando `pd.pct_change()`.\n",
    "     - Presenta un gráfico que muestre la diferencia en elasticidad entre los dos tipos usando `plt.bar()`."
   ]
  },
  {
   "cell_type": "code",
   "execution_count": null,
   "id": "d9e3c207",
   "metadata": {},
   "outputs": [],
   "source": []
  },
  {
   "cell_type": "markdown",
   "id": "795416ad",
   "metadata": {},
   "source": [
    "5. **Análisis de la Elasticidad Precios-Ventas:**\n",
    "   - **Uso de Datos:** Usa las columnas `AveragePrice` y `Total Volume`.\n",
    "   - **Esperado:** Examina cómo las variaciones en `AveragePrice` afectan a `Total Volume`.\n",
    "     - Realiza un análisis de la relación entre estas dos variables calculando la elasticidad.\n",
    "     - Presenta un gráfico de dispersión que muestre la relación y discute la tendencia observada utilizando `plt.scatter()` y `plt.plot()`."
   ]
  },
  {
   "cell_type": "code",
   "execution_count": null,
   "id": "4612fe77",
   "metadata": {},
   "outputs": [],
   "source": []
  },
  {
   "cell_type": "markdown",
   "id": "dd93721f",
   "metadata": {},
   "source": [
    "### 4. **Análisis de Cohortes**\n",
    "**Resumen:** El análisis de cohortes permite agrupar datos según características específicas y observar cómo se comportan a lo largo del tiempo. Se centra en cohortes de precios y ventas para entender las dinámicas del mercado.\n",
    "\n",
    "1. **Cohortes Basadas en Precios Promedios Trimestrales:**\n",
    "   - **Uso de Datos:** Usa las columnas `AveragePrice`, `Total Volume` y `Date`.\n",
    "   - **Esperado:** Crea cohortes trimestrales y analiza cambios en precios y volúmenes.\n",
    "     - Agrupa los datos por trimestre usando `pd.Grouper` con `freq='Q'`.\n",
    "     - Calcula el promedio de `AveragePrice` y suma `Total Volume` para cada cohorte.\n",
    "     - Visualiza los resultados en un gráfico de líneas que muestre la evolución de las cohortes."
   ]
  },
  {
   "cell_type": "code",
   "execution_count": null,
   "id": "292c934a",
   "metadata": {},
   "outputs": [],
   "source": []
  },
  {
   "cell_type": "markdown",
   "id": "5fcade5a",
   "metadata": {},
   "source": [
    "2. **Cohortes por Región y Fecha:**\n",
    "   - **Uso de Datos:** Utiliza las columnas `AveragePrice`, `Total Volume`, `region` y `Date`.\n",
    "   - **Esperado:** Analiza cómo varían las cohortes de diferentes regiones.\n",
    "     - Agrupa los datos por `region` y `Date` usando `groupby()`.\n",
    "     - Calcula el promedio de precios y volumen para cada cohorte.\n",
    "     - Presenta los resultados en gráficos de barras que muestren comparaciones entre regiones."
   ]
  },
  {
   "cell_type": "code",
   "execution_count": null,
   "id": "1b48c63c",
   "metadata": {},
   "outputs": [],
   "source": []
  },
  {
   "cell_type": "markdown",
   "id": "f9fbb0e1",
   "metadata": {},
   "source": [
    "3. **Análisis de Cohortes en Función del Tipo de Bolsa:**\n",
    "   - **Uso de Datos:** Usa las columnas `Total Bags`, `Small Bags`, `Large Bags`, `XLarge Bags` y `Date`.\n",
    "   - **Esperado:** Examina cómo se comportan las diferentes cohortes según el tipo de bolsa.\n",
    "     - Agrupa los datos por tipo de bolsa y `Date`.\n",
    "     - Calcula el volumen de ventas total y muestra los resultados en un gráfico de líneas."
   ]
  },
  {
   "cell_type": "code",
   "execution_count": null,
   "id": "be025d74",
   "metadata": {},
   "outputs": [],
   "source": []
  },
  {
   "cell_type": "markdown",
   "id": "48fc160e",
   "metadata": {},
   "source": [
    "4. **Cohortes de Clientes Basadas en Ventas:**\n",
    "   - **Uso de Datos:** Usa las columnas `Total Volume`, `Date` y `region`.\n",
    "   - **Esperado:** Analiza el comportamiento de las cohortes según el volumen de ventas.\n",
    "     - Clasifica los clientes según su volumen de compras.\n",
    "     - Visualiza las cohortes en gráficos de líneas o barras que muestren el comportamiento de compra a lo largo del tiempo."
   ]
  },
  {
   "cell_type": "code",
   "execution_count": null,
   "id": "fac62d6b",
   "metadata": {},
   "outputs": [],
   "source": []
  },
  {
   "cell_type": "markdown",
   "id": "40666241",
   "metadata": {},
   "source": [
    "5. **Evaluación de Retención de Ventas por Cohorte:**\n",
    "   - **Uso de Datos:** Usa las columnas `Total Volume` y `Date`.\n",
    "   - **Esperado:** Estudia cómo se retienen las ventas en cohortes a lo largo de un año.\n",
    "     - Agrupa los datos por mes y cohortes.\n",
    "     - Calcula la retención de ventas y visualiza los resultados en un gráfico de líneas que muestre las tasas de retención."
   ]
  },
  {
   "cell_type": "code",
   "execution_count": null,
   "id": "5619612c",
   "metadata": {},
   "outputs": [],
   "source": []
  },
  {
   "cell_type": "markdown",
   "id": "68805753",
   "metadata": {},
   "source": [
    "### 5. **Análisis de Correlación y Regresión**\n",
    "**Resumen:** Se centra en la identificación de relaciones significativas entre las variables numéricas y el desarrollo de modelos de regresión para hacer predicciones basadas en esas relaciones.\n",
    "\n",
    "1. **Matriz de Correlación:** \n",
    "   - **Uso de Datos:** Utiliza las columnas numéricas del DataFrame (p. ej., `AveragePrice`, `Total Volume`, `4046`, `4225`, `4770`, `Total Bags`).\n",
    "   - **Esperado:** \n",
    "     - Importa las librerías necesarias: `import seaborn as sns` y `import matplotlib.pyplot as plt`.\n",
    "     - Calcula la matriz de correlación usando el método `.corr()` del DataFrame.\n",
    "     - Visualiza la matriz utilizando `sns.heatmap()`. \n",
    "     - Anota las correlaciones más significativas y discute su posible impacto en el análisis."
   ]
  },
  {
   "cell_type": "code",
   "execution_count": null,
   "id": "c2aff5c4",
   "metadata": {},
   "outputs": [],
   "source": []
  },
  {
   "cell_type": "markdown",
   "id": "1ca61ffe",
   "metadata": {},
   "source": [
    "2. **Análisis de Dispersión entre Variables Clave:** \n",
    "   - **Uso de Datos:** Selecciona variables numéricas de interés como `AveragePrice` y `Total Volume`.\n",
    "   - **Esperado:** \n",
    "     - Importa las librerías necesarias: `import seaborn as sns` y `import matplotlib.pyplot as plt`.\n",
    "     - Crea un gráfico de dispersión con `sns.scatterplot()` para visualizar la relación entre `AveragePrice` y `Total Volume`.\n",
    "     - Añade una línea de regresión utilizando `sns.regplot()` para ilustrar las tendencias.\n",
    "     - Compara el ajuste de una regresión lineal frente a una polinómica."
   ]
  },
  {
   "cell_type": "code",
   "execution_count": null,
   "id": "1d8f4627",
   "metadata": {},
   "outputs": [],
   "source": []
  },
  {
   "cell_type": "markdown",
   "id": "75736e9e",
   "metadata": {},
   "source": [
    "3. **Predicciones Mensuales Usando Datos Trimestrales:**\n",
    "   - **Uso de Datos:** Agrupa datos por trimestres y segmenta en meses utilizando `Date`, `AveragePrice`, y `Total Volume`.\n",
    "   - **Esperado:** \n",
    "     - Convierte la columna `Date` a tipo datetime si es necesario.\n",
    "     - Agrupa los datos por trimestre y calcula el promedio de `AveragePrice` y `Total Volume`.\n",
    "     - Utiliza los datos de los primeros 2 meses de un trimestre para predecir el precio del tercer mes.\n",
    "     - Compara los resultados de las predicciones con los precios reales.\n",
    "     - Evalúa la precisión de tus predicciones utilizando métricas como R² y RMSE."
   ]
  },
  {
   "cell_type": "code",
   "execution_count": null,
   "id": "05301f2c",
   "metadata": {},
   "outputs": [],
   "source": []
  },
  {
   "cell_type": "markdown",
   "id": "72530cbd",
   "metadata": {},
   "source": [
    "4. **Predicciones Trimestrales:**\n",
    "   - **Uso de Datos:** Agrupa los datos en trimestres usando solo variables numéricas.\n",
    "   - **Esperado:** \n",
    "     - Agrupa los datos por trimestres usando `pd.Grouper()` con `freq='Q'` para obtener promedios.\n",
    "     - Usa los datos de 1 o 2 trimestres anteriores para predecir el siguiente trimestre ajustando modelos de regresión lineal y polinómica.\n",
    "     - Compara los resultados de las predicciones con los precios reales.\n",
    "     - Evalúa la precisión de tus predicciones utilizando métricas como R² y RMSE."
   ]
  },
  {
   "cell_type": "code",
   "execution_count": null,
   "id": "96b4b4fd",
   "metadata": {},
   "outputs": [],
   "source": []
  },
  {
   "cell_type": "markdown",
   "id": "b7000732",
   "metadata": {},
   "source": [
    "5. **Predicciones Anuales:**\n",
    "   - **Uso de Datos:** Agrupa los datos en años, utilizando únicamente columnas numéricas.\n",
    "   - **Esperado:** \n",
    "     - Agrupa los datos por año utilizando `pd.Grouper()` con `freq='Y'`.\n",
    "     - Usa los datos de 1 o 2 años anteriores para predecir el siguiente año ajustando modelos de regresión lineal y polinómica.\n",
    "     - Evalúa la precisión de tus predicciones utilizando métricas como R² y RMSE."
   ]
  },
  {
   "cell_type": "code",
   "execution_count": null,
   "id": "94caf139",
   "metadata": {},
   "outputs": [],
   "source": []
  },
  {
   "cell_type": "markdown",
   "id": "a87cf19f",
   "metadata": {},
   "source": [
    "6. **Desarrollo de Modelos de Regresión Múltiple:** \n",
    "   - **Uso de Datos:** Selecciona varias variables numéricas como `Total Volume`, `4046`, `4225`, `4770`, y `Total Bags` para predecir `AveragePrice`.\n",
    "   - **Esperado:** \n",
    "     - Define las variables independientes (X) y dependientes (y).\n",
    "     - Ajusta modelos de regresión múltiple.\n",
    "     - Compara su rendimiento utilizando métricas como R² y RMSE y discute las implicaciones de los resultados."
   ]
  },
  {
   "cell_type": "code",
   "execution_count": null,
   "id": "6807d7e3",
   "metadata": {},
   "outputs": [],
   "source": []
  },
  {
   "cell_type": "markdown",
   "id": "29bcb989",
   "metadata": {},
   "source": [
    "7. **Análisis de Coeficientes de Regresión Múltiple:**\n",
    "   - **Uso de Datos:** Examina los coeficientes de los modelos de regresión múltiple ajustados.\n",
    "   - **Esperado:** \n",
    "     - Extrae los coeficientes del modelo ajustado.\n",
    "     - Interpreta los coeficientes para entender el impacto de cada variable numérica en `AveragePrice`.\n",
    "     - Comenta sobre las variables más significativas y su relevancia."
   ]
  },
  {
   "cell_type": "code",
   "execution_count": null,
   "id": "b8faa946",
   "metadata": {},
   "outputs": [],
   "source": []
  },
  {
   "cell_type": "markdown",
   "id": "09419b09",
   "metadata": {},
   "source": [
    "8. **Modelos de Regresión para Diferenciar Volúmenes de Ventas:**\n",
    "   - **Uso de Datos:** Usa `AveragePrice`, `Total Volume`, `4046`, `4225`, y `4770`.\n",
    "   - **Esperado:** \n",
    "     - Ajusta modelos de regresión para analizar cómo los diferentes volúmenes de ventas afectan `AveragePrice`.\n",
    "     - Compara los resultados de regresión lineal y polinómica.\n",
    "     - Presenta las conclusiones de tus análisis."
   ]
  },
  {
   "cell_type": "code",
   "execution_count": null,
   "id": "a6608d2a",
   "metadata": {},
   "outputs": [],
   "source": []
  },
  {
   "cell_type": "markdown",
   "id": "4c445a62",
   "metadata": {},
   "source": [
    "9. **Análisis de la Influencia de las Ventas Totales en el Precio Promedio:**\n",
    "   - **Uso de Datos:** Usa `Total Volume`, `AveragePrice`, y `Total Bags`.\n",
    "   - **Esperado:** \n",
    "     - Ajusta un modelo de regresión lineal y polinómica para ver cómo varía `AveragePrice` en función del volumen total de ventas.\n",
    "     - Evalúa la significancia de los coeficientes y discute su relevancia."
   ]
  },
  {
   "cell_type": "code",
   "execution_count": null,
   "id": "a488c1b1",
   "metadata": {},
   "outputs": [],
   "source": []
  },
  {
   "cell_type": "markdown",
   "id": "1f142105",
   "metadata": {},
   "source": [
    "10. **Regresión para Predecir el Precio Promedio Según el Volumen de Aguacates por Tipo:**\n",
    "    - **Uso de Datos:** Usa `AveragePrice`, `4046`, `4225`, `4770`, y `Total Volume`.\n",
    "    - **Esperado:** \n",
    "      - Ajusta modelos de regresión lineal y polinómica.\n",
    "      - Evalúa la efectividad de ambos modelos utilizando métricas como R² y RMSE.\n",
    "      - Discute cuál modelo ofrece mejores predicciones y por qué, basándote en los resultados obtenidos.\n"
   ]
  },
  {
   "cell_type": "code",
   "execution_count": null,
   "id": "09d64a92",
   "metadata": {},
   "outputs": [],
   "source": []
  }
 ],
 "metadata": {
  "kernelspec": {
   "display_name": "Python 3 (ipykernel)",
   "language": "python",
   "name": "python3"
  },
  "language_info": {
   "codemirror_mode": {
    "name": "ipython",
    "version": 3
   },
   "file_extension": ".py",
   "mimetype": "text/x-python",
   "name": "python",
   "nbconvert_exporter": "python",
   "pygments_lexer": "ipython3",
   "version": "3.9.12"
  }
 },
 "nbformat": 4,
 "nbformat_minor": 5
}
